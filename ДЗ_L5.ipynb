{
 "cells": [
  {
   "cell_type": "markdown",
   "id": "05fc123d",
   "metadata": {},
   "source": [
    "## Задание 1\n",
    "Средний бал и список отстающих учеников </br>\n",
    "Иванов О. 4</br>\n",
    "Петров И. 3</br>\n",
    "Дмитриев Н. 2</br>\n",
    "Смирнова О. 4</br>\n",
    "Керченских В. 5</br>\n",
    "Котов Д. 2</br>\n",
    "Бирюкова Н. 1</br>\n",
    "Данилов П. 3</br>\n",
    "Аранских В. 5</br>\n",
    "Лемонов Ю. 2</br>\n",
    "Олегова К. 4</br>\n",
    "...</br>"
   ]
  },
  {
   "cell_type": "code",
   "execution_count": 60,
   "id": "885c7ef3",
   "metadata": {},
   "outputs": [
    {
     "name": "stdout",
     "output_type": "stream",
     "text": [
      "Введите фамилию и оценку через пробел (для завершения введите пустую строку): Иванов О. 4\n",
      "Введите фамилию и оценку через пробел (для завершения введите пустую строку): Петров И. 3\n",
      "Введите фамилию и оценку через пробел (для завершения введите пустую строку): Дмитриев Н. 2\n",
      "Введите фамилию и оценку через пробел (для завершения введите пустую строку): Смирнова О. 4\n",
      "Введите фамилию и оценку через пробел (для завершения введите пустую строку): Керченских В. 5\n",
      "Введите фамилию и оценку через пробел (для завершения введите пустую строку): Котов Д. 2\n",
      "Введите фамилию и оценку через пробел (для завершения введите пустую строку): Бирюкова Н. 1\n",
      "Введите фамилию и оценку через пробел (для завершения введите пустую строку): Данилов П. 3\n",
      "Введите фамилию и оценку через пробел (для завершения введите пустую строку): Аранских В. 5\n",
      "Введите фамилию и оценку через пробел (для завершения введите пустую строку): Лемонов Ю. 2\n",
      "Введите фамилию и оценку через пробел (для завершения введите пустую строку): Олегова К. 4\n",
      "Введите фамилию и оценку через пробел (для завершения введите пустую строку): \n",
      "Конец записи\n",
      "Иванов О. 4\n",
      "Петров И. 3\n",
      "Дмитриев Н. 2\n",
      "Смирнова О. 4\n",
      "Керченских В. 5\n",
      "Котов Д. 2\n",
      "Бирюкова Н. 1\n",
      "Данилов П. 3\n",
      "Аранских В. 5\n",
      "Лемонов Ю. 2\n",
      "Олегова К. 4\n",
      "\n",
      "Проверка закончена\n",
      "\n",
      "Средний балл равен: 3.1818181818181817\n",
      "Список отстающих учеников: \n",
      "Петров И. \n",
      "Дмитриев Н. \n",
      "Котов Д. \n",
      "Бирюкова Н. \n",
      "Данилов П. \n",
      "Лемонов Ю. \n"
     ]
    }
   ],
   "source": [
    "import statistics\n",
    "#Для начала создадим файл и поместим его в текущую директорию\n",
    "temp_to_write = []\n",
    "\n",
    "with open('grades.txt', 'w', encoding = 'utf-8') as file:\n",
    "    grade = 'temp'\n",
    "    while grade!='':\n",
    "        grade = input('Введите фамилию и оценку через пробел (для завершения введите пустую строку): ')\n",
    "        if grade!='':\n",
    "            temp_to_write.append(grade+'\\n')\n",
    "        \n",
    "    file.writelines(temp_to_write)\n",
    "    temp_to_write=[]\n",
    "    print('Конец записи')\n",
    "    \n",
    "#Проверим запись в файл\n",
    "with open('grades.txt', 'r', encoding = 'utf-8') as file:\n",
    "    text = file.read()\n",
    "    print(text)\n",
    "print('Проверка закончена\\n')\n",
    "\n",
    "#Создадим словарь, ключ - фамилия (примем, что все фамилии уникальны), а значение - оценка\n",
    "grades_dict = {}\n",
    "with open('grades.txt', 'r', encoding = 'utf-8') as file:\n",
    "    for line in file:\n",
    "        student = ''\n",
    "        temp_student = line.split()[:-1]\n",
    "        for elem in temp_student:\n",
    "            student+=elem\n",
    "            student+=' '\n",
    "        grade = int(line.split()[-1])\n",
    "\n",
    "        grades_dict[student] = grade\n",
    "\n",
    "all_grades = list(grades_dict.values())\n",
    "mean_grade = statistics.mean(all_grades)\n",
    "\n",
    "print(f'Средний балл равен: {mean_grade}')\n",
    "\n",
    "#Неуспевающими учениками считаются те, у которых балл ниже среднего\n",
    "print('Список отстающих учеников: ')\n",
    "for student in grades_dict:\n",
    "    if grades_dict[student]<mean_grade:\n",
    "        print(student)"
   ]
  },
  {
   "cell_type": "markdown",
   "id": "060eee67",
   "metadata": {},
   "source": [
    "## Задание 2\n",
    "Посчитать количество определенных слов в файле</br>\n",
    "Понедельник</br>\n",
    "\tФизика (лекц.)</br>\n",
    "\tФизика (лаб.)</br>\n",
    "\tАлгебра (практ.)</br>\n",
    " \n",
    "Вторник</br>\n",
    "\tГеометрия (лекц.)</br>\n",
    "\tФизика (практ.)</br>\n",
    "\tФизика (лаба.)</br>\n",
    "\tФизкультура (практик.)</br>\n",
    "..."
   ]
  },
  {
   "cell_type": "code",
   "execution_count": 66,
   "id": "4e900bba",
   "metadata": {},
   "outputs": [
    {
     "name": "stdout",
     "output_type": "stream",
     "text": [
      "Понедельник\n",
      "Физика (лекц.)\n",
      "Физика (лаб.)\n",
      "Алгебра (практ.)\n",
      "\n",
      "Вторник\n",
      "Геометрия (лекц.)\n",
      "Физика (практ.)\n",
      "Физика (лаб.)\n",
      "Физкультура (практ.)\n",
      "\n",
      "Среда\n",
      "Английский язык (практ.)\n",
      "УТП (лаб.)\n",
      "УТП (лаб.)\n",
      "\n",
      "Четверг\n",
      "Алгебра (лекц.)\n",
      "Алгебра (лекц.)\n",
      "Алгебра (практ.)\n",
      "\n",
      "Пятница\n",
      "Базы данных (лекц.)\n",
      "Базы данных (лекц.)\n",
      "Базы данных (практ.)\n",
      "Базы данных (лаб.)\n",
      "Проверка закончена\n",
      "\n"
     ]
    },
    {
     "data": {
      "text/plain": [
       "{'лекц': 6, 'лаб': 5, 'практ': 6}"
      ]
     },
     "execution_count": 66,
     "metadata": {},
     "output_type": "execute_result"
    }
   ],
   "source": [
    "#Файл уже предваритель создан, посмотрим, как он выглядит\n",
    "with open('schedule.txt', 'r', encoding = 'utf-8') as file:\n",
    "    text = file.read()\n",
    "    print(text)\n",
    "print('Проверка закончена\\n')\n",
    "\n",
    "temp_dict = {}\n",
    "with open('schedule.txt', 'r', encoding = 'utf-8') as file:\n",
    "    for line in file:\n",
    "        if len(line.split())>1:\n",
    "            subject_type = line.split()[-1]\n",
    "            subject_type = subject_type[1:-2]\n",
    "            if subject_type  in temp_dict.keys():\n",
    "                temp_dict[subject_type]+=1\n",
    "            else:\n",
    "                temp_dict[subject_type]=1\n",
    "temp_dict"
   ]
  },
  {
   "cell_type": "markdown",
   "id": "8ee9f729",
   "metadata": {},
   "source": [
    "## Задание 3\n",
    "Откройте Telegram, найдите @BotFather и начните беседу. Отправьте команду /newbot и следуйте инструкциям.\n",
    "свой токен; адрес Telegram API (https://api.telegram.org/bot); ссылку на документацию. Обязательно сохраните токен, так как это ключ для взаимодействия с ботом.\n",
    "\n",
    "Хранение токена должно быть локальным: ни в коем случае не выгружайте его в общий доступ, например в GitHub-репозиторий ."
   ]
  },
  {
   "cell_type": "markdown",
   "id": "04b8b0fe",
   "metadata": {},
   "source": [
    "#Только для Вас)\n",
    "Done! Congratulations on your new bot. You will find it at t.me/FriendBattleBot_bot. You can now add a description, about section and profile picture for your bot, see /help for a list of commands. By the way, when you've finished creating your cool bot, ping our Bot Support if you want a better username for it. Just make sure the bot is fully operational before you do this.\n",
    "\n",
    "Use this token to access the HTTP API:\n",
    "5626703127:AAGZJmzugXF_LgfetdvfNMKfHoLbOejaTOE\n",
    "Keep your token secure and store it safely, it can be used by anyone to control your bot.\n",
    "\n",
    "For a description of the Bot API, see this page: https://core.telegram.org/bots/api"
   ]
  },
  {
   "cell_type": "markdown",
   "id": "ee386d09",
   "metadata": {},
   "source": [
    "## Задание 4\n",
    "Выведите список файлов в указанной директории. например где у вас лежат ваши тетради"
   ]
  },
  {
   "cell_type": "code",
   "execution_count": 69,
   "id": "cf2ab392",
   "metadata": {},
   "outputs": [
    {
     "name": "stdout",
     "output_type": "stream",
     "text": [
      "grades.txt\n",
      "schedule.txt\n",
      "ДЗ_L2.ipynb\n",
      "ДЗ_L3.ipynb\n",
      "ДЗ_L4.ipynb\n",
      "ДЗ_L5.ipynb\n",
      "ДЗ_L3-checkpoint.ipynb\n",
      "ДЗ_L5-checkpoint.ipynb\n"
     ]
    }
   ],
   "source": [
    "import os\n",
    "for root, dirs, files in os.walk(\".\"):  \n",
    "    for filename in files:\n",
    "        print(filename)"
   ]
  },
  {
   "cell_type": "markdown",
   "id": "0da202a5",
   "metadata": {},
   "source": [
    "## Задание 5\n",
    "Напишите программу, которая принимает текст и выводит два слова: наиболее часто встречающееся и самое длинное."
   ]
  },
  {
   "cell_type": "code",
   "execution_count": 85,
   "id": "d3c8c745",
   "metadata": {},
   "outputs": [
    {
     "name": "stdout",
     "output_type": "stream",
     "text": [
      "Введите текст: Варкалось. Хливкие шорьки Пырялись по наве, И хрюкотали зелюки, Как мюмзики в мове.  О, бойся Бармаглота, сын! Он так свирлеп и дик! А в глу́ше ры́мит исполин — Злопастный Брандашмыг!  Но взял он меч, и взял он щит, Высоких полон дум. В глущобу путь его лежит Под дерево Тумтум.  Он стал под дерево и ждёт. И вдруг граахнул гром — Летит ужасный Бармаглот И пылкает огнём!  Раз-два, раз-два! Горит трава, Взы-взы — стрижает меч, Ува! Ува! И голова Барабардает с плеч!  О светозарный мальчик мой! Ты победил в бою! О храброславленный герой, Хвалу тебе пою!  Варкалось. Хливкие шорьки Пырялись по наве. И хрюкотали зелюки, Как мюмзики в мове.\n",
      "['варкалось', 'хливкие', 'шорьки', 'пырялись', 'по', 'наве', 'и', 'хрюкотали', 'зелюки', 'как', 'мюмзики', 'в', 'мове', 'о', 'бойся', 'бармаглота', 'сын', 'он', 'так', 'свирлеп', 'и', 'дик', 'а', 'в', 'глу́ше', 'ры́мит', 'исполин', '—', 'злопастный', 'брандашмыг', 'но', 'взял', 'он', 'меч', 'и', 'взял', 'он', 'щит', 'высоких', 'полон', 'дум', 'в', 'глущобу', 'путь', 'его', 'лежит', 'под', 'дерево', 'тумтум', 'он', 'стал', 'под', 'дерево', 'и', 'ждёт', 'и', 'вдруг', 'граахнул', 'гром', '—', 'летит', 'ужасный', 'бармаглот', 'и', 'пылкает', 'огнём', 'раз-два', 'раз-два', 'горит', 'трава', 'взы-взы', '—', 'стрижает', 'меч', 'ува', 'ува', 'и', 'голова', 'барабардает', 'с', 'плеч', 'о', 'светозарный', 'мальчик', 'мой', 'ты', 'победил', 'в', 'бою', 'о', 'храброславленный', 'герой', 'хвалу', 'тебе', 'пою', 'варкалось', 'хливкие', 'шорьки', 'пырялись', 'по', 'наве', 'и', 'хрюкотали', 'зелюки', 'как', 'мюмзики', 'в', 'мове']\n",
      "Количество букв в слове(-ах) максимальной длины:  16  Слово(-а):  храброславленный\n",
      "Частота самого(-ых) встречаемого(-ых) слов:  7.4074074074074066  Слово(-а):  и\n"
     ]
    }
   ],
   "source": [
    "text = input('Введите текст: ')\n",
    "\n",
    "\n",
    "#Модифицируем токенизатор из ДЗ 4\n",
    "def tokenizer_upgrade(phrase=None):\n",
    "    if phrase==None:\n",
    "        phrase = input('Введите фразу для её токенизации: ')\n",
    "    phrase = phrase.lower()\n",
    "    basic_to_reaplace = ['.',',','?','!',';',':', '\\n']\n",
    "    for elem in basic_to_reaplace:\n",
    "        phrase = phrase.replace(elem, ' ')\n",
    "    tokenized = phrase.split(' ')\n",
    "    tokenized = [word for word in tokenized if word != '']\n",
    "    \n",
    "    tokenized_dict = dict.fromkeys(tokenized)\n",
    "    \n",
    "    print(tokenized)\n",
    "    \n",
    "    for token in tokenized:\n",
    "        #Первое число - частота, второе - количество букв в слове\n",
    "        tokenized_dict[token] = [tokenized.count(token)/len(tokenized)*100,len(token)]\n",
    "\n",
    "    return tokenized_dict\n",
    "\n",
    "def find_word_max_length(some_dict):\n",
    "    max_length = 0\n",
    "    words_max_length = []\n",
    "    \n",
    "    for key in some_dict.keys():\n",
    "        if some_dict[key][1]>=max_length:\n",
    "            max_length = some_dict[key][1]\n",
    "            \n",
    "    for key in some_dict.keys():\n",
    "        if some_dict[key][1]==max_length:\n",
    "            words_max_length.append(key)\n",
    "    \n",
    "    return words_max_length, max_length\n",
    "\n",
    "def find_word_max_freq(some_dict):\n",
    "    max_freq = 0\n",
    "    words_max_freq = []\n",
    "    \n",
    "    for key in some_dict.keys():\n",
    "        if some_dict[key][0]>=max_freq:\n",
    "            max_freq = some_dict[key][0]\n",
    "            \n",
    "    for key in some_dict.keys():\n",
    "        if some_dict[key][0]==max_freq:\n",
    "            words_max_freq.append(key)\n",
    "    \n",
    "    return words_max_freq, max_freq\n",
    "\n",
    "result_dict = tokenizer_upgrade(text)\n",
    "max_len_words, max_len = find_word_max_length(result_dict)\n",
    "max_freq_words, max_freq = find_word_max_freq(result_dict)\n",
    "\n",
    "print('Количество букв в слове(-ах) максимальной длины: ',max_len, ' Слово(-а): ', *max_len_words, )\n",
    "print('Частота самого(-ых) встречаемого(-ых) слов: ',max_freq, ' Слово(-а): ', *max_freq_words, )"
   ]
  }
 ],
 "metadata": {
  "kernelspec": {
   "display_name": "Python 3 (ipykernel)",
   "language": "python",
   "name": "python3"
  },
  "language_info": {
   "codemirror_mode": {
    "name": "ipython",
    "version": 3
   },
   "file_extension": ".py",
   "mimetype": "text/x-python",
   "name": "python",
   "nbconvert_exporter": "python",
   "pygments_lexer": "ipython3",
   "version": "3.9.13"
  }
 },
 "nbformat": 4,
 "nbformat_minor": 5
}
