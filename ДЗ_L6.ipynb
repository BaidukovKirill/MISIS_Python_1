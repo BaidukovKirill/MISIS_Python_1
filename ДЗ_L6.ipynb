{
 "cells": [
  {
   "cell_type": "markdown",
   "id": "c4f9c2b1",
   "metadata": {},
   "source": [
    "## Задание 1\n",
    "Напишите программу с классом Student, в котором есть три атрибута: name, groupNumber и age. По умолчанию name = Ivan, age = 18, groupNumber = 10A. Необходимо создать пять методов: getName, getAge, getGroupNumber, setNameAge, setGroupNumber. Метод getName нужен для получения данных об имени конкретного студента, метод getAge нужен для получения данных о возрасте конкретного студента, vетод setGroupNumberнужен для получения данных о номере группы конкретного студента. Метод SetNameAge позволяет изменить данные атрибутов установленных по умолчанию, метод setGroupNumber позволяет изменить номер группы установленный по умолчанию. В программе необходимо создать пять экземпляров класса Student, установить им разные имена, возраст и номер группы."
   ]
  },
  {
   "cell_type": "code",
   "execution_count": 1,
   "id": "724378f1",
   "metadata": {},
   "outputs": [],
   "source": [
    "class Student():\n",
    "    def __init__(self, name='Ivan', age=18, groupNumber='10A'):\n",
    "        self.name = name\n",
    "        self.age = age\n",
    "        self.groupNumber = groupNumber\n",
    "    \n",
    "    def __str__(self):\n",
    "        return f'Студент: {self.name} \\nВозраст: {self.age} \\nГруппа: {self.groupNumber}'\n",
    "    \n",
    "    def getName(self):\n",
    "        return self.name\n",
    "    \n",
    "    def getAge(self):\n",
    "        return self.age\n",
    "    \n",
    "    def getGroupNumber(self):\n",
    "        return self.groupNumber\n",
    "    \n",
    "    def setName(self, name):\n",
    "        self.name = name\n",
    "    \n",
    "    def setAge(self, age):\n",
    "        self.age = age\n",
    "    \n",
    "    def setGroupNumber(self, groupNumber):\n",
    "        self.groupNumber = groupNumber\n",
    "    "
   ]
  },
  {
   "cell_type": "code",
   "execution_count": 2,
   "id": "5aebea87",
   "metadata": {},
   "outputs": [
    {
     "name": "stdout",
     "output_type": "stream",
     "text": [
      "Студент: Ivan \n",
      "Возраст: 18 \n",
      "Группа: 10A\n"
     ]
    }
   ],
   "source": [
    "Student_1 = Student()\n",
    "print(Student_1)"
   ]
  },
  {
   "cell_type": "code",
   "execution_count": 5,
   "id": "deeb7b79",
   "metadata": {},
   "outputs": [
    {
     "name": "stdout",
     "output_type": "stream",
     "text": [
      "Anton\n",
      "Студент: Anton \n",
      "Возраст: 18 \n",
      "Группа: 10A\n"
     ]
    }
   ],
   "source": [
    "Student_2 = Student()\n",
    "Student_2.setName('Anton')\n",
    "\n",
    "Student_2_name = Student_2.getName()\n",
    "print(Student_2_name)\n",
    "print(Student_2)"
   ]
  },
  {
   "cell_type": "code",
   "execution_count": 6,
   "id": "4a32baa0",
   "metadata": {},
   "outputs": [
    {
     "name": "stdout",
     "output_type": "stream",
     "text": [
      "Студент: Boris \n",
      "Возраст: 18 \n",
      "Группа: 10A\n",
      "Студент: Boris \n",
      "Возраст: 22 \n",
      "Группа: B-22\n"
     ]
    }
   ],
   "source": [
    "Student_3 = Student(name='Boris', age=18)\n",
    "\n",
    "print(Student_3)\n",
    "\n",
    "Student_3.setAge(22)\n",
    "Student_3.setGroupNumber('B-22')\n",
    "\n",
    "print(Student_3)"
   ]
  },
  {
   "cell_type": "code",
   "execution_count": 7,
   "id": "2828854f",
   "metadata": {},
   "outputs": [
    {
     "name": "stdout",
     "output_type": "stream",
     "text": [
      "Name: Pavel, Age: 42, Group: A-16\n"
     ]
    }
   ],
   "source": [
    "Student_4 = Student(name='Pavel', age=42, groupNumber='A-16')\n",
    "\n",
    "Student_4_name = Student_4.getName()\n",
    "Student_4_age = Student_4.getAge()\n",
    "Student_4_groupNumber = Student_4.getGroupNumber()\n",
    "\n",
    "print(f'Name: {Student_4_name}, Age: {Student_4_age}, Group: {Student_4_groupNumber}')"
   ]
  },
  {
   "cell_type": "code",
   "execution_count": 8,
   "id": "7334b553",
   "metadata": {},
   "outputs": [
    {
     "name": "stdout",
     "output_type": "stream",
     "text": [
      "Студент: Кирилл \n",
      "Возраст: 22 \n",
      "Группа: МИСТ-22-2\n"
     ]
    }
   ],
   "source": [
    "Student_5 = Student(name='Кирилл', age=22, groupNumber='МИСТ-22-2')\n",
    "\n",
    "print(Student_5)"
   ]
  },
  {
   "cell_type": "markdown",
   "id": "57260a53",
   "metadata": {},
   "source": [
    "## Задание 2\n",
    "Напишите программу с классом Car. Создайте конструктор класса Car. Создайте атрибуты класса Car — color (цвет), type (тип), year (год). Напишите пять методов. Первый — запуск автомобиля, при его вызове выводится сообщение «Автомобиль заведен». Второй — отключение автомобиля — выводит сообщение «Автомобиль заглушен». Третий — присвоение автомобилю года выпуска. Четвертый метод — присвоение автомобилю типа. Пятый — присвоение автомобилю цвета."
   ]
  },
  {
   "cell_type": "code",
   "execution_count": 10,
   "id": "e4ab04c7",
   "metadata": {},
   "outputs": [],
   "source": [
    "class Car():\n",
    "    \n",
    "    def __init__(self, color, car_type, year):\n",
    "        self.engine_on = False\n",
    "        self.color = color\n",
    "        self.car_type = car_type\n",
    "        self.year = year\n",
    "    \n",
    "    def getColor(self):\n",
    "        return self.color\n",
    "    \n",
    "    def getCarType(self):\n",
    "        return self.car_type\n",
    "    \n",
    "    def getYear(self):\n",
    "        return self.year\n",
    "    \n",
    "    def setColor(self, color):\n",
    "        self.color=color\n",
    "        print('Машина успешно перекрашена!')\n",
    "    \n",
    "    def setCarType(self, car_type):\n",
    "        print(f'Мы конечно сделаем из {self.car_type} {car_type}, но 12.5.1...')\n",
    "        self.car_type=car_type\n",
    "    \n",
    "    def setYear(self, year):\n",
    "        if year>self.year:\n",
    "            print('Омолаживаю автомобиль...')\n",
    "            self.year = year\n",
    "        elif year<self.year:\n",
    "            print('Произвожу старение автомобиля...')\n",
    "            self.year=year\n",
    "        else:\n",
    "            self.year = year\n",
    "    \n",
    "    def turn_engine_on(self):\n",
    "        if self.engine_on==False:\n",
    "            print('Завожу автомобиль...')\n",
    "            self.engine_on= True\n",
    "            print('Автомобиль заведён')\n",
    "        else:\n",
    "            print('Автомобиль уже заведён')\n",
    "    \n",
    "    def turn_engine_off(self):\n",
    "        if self.engine_on==True:\n",
    "            print('Глушу автомобиль...')\n",
    "            self.engine_on= False\n",
    "            print('Автомобиль заглушен')\n",
    "        else:\n",
    "            print('Автомобиль уже заглушен')"
   ]
  },
  {
   "cell_type": "code",
   "execution_count": 11,
   "id": "9bbf60f3",
   "metadata": {},
   "outputs": [
    {
     "name": "stdout",
     "output_type": "stream",
     "text": [
      "Завожу автомобиль...\n",
      "Автомобиль заведён\n",
      "Глушу автомобиль...\n",
      "Автомобиль заглушен\n",
      "Мы конечно сделаем из coupe cabriolet, но 12.5.1...\n",
      "Машина успешно перекрашена!\n",
      "Омолаживаю автомобиль...\n"
     ]
    }
   ],
   "source": [
    "MyCar = Car(color = 'green', car_type='coupe', year=2020)\n",
    "\n",
    "MyCar.turn_engine_on()\n",
    "\n",
    "MyCar.turn_engine_off()\n",
    "\n",
    "MyCar.setCarType('cabriolet')\n",
    "\n",
    "MyCar.setColor('yellow')\n",
    "\n",
    "MyCar.setYear(2022)\n",
    "\n"
   ]
  },
  {
   "cell_type": "markdown",
   "id": "9c1629a4",
   "metadata": {},
   "source": [
    "## Задание 3\n",
    "Допишите функцию Nutrion, чтобы можно было делать умножение вида breakfast = apple * 3"
   ]
  },
  {
   "cell_type": "code",
   "execution_count": 23,
   "id": "e44b8e04",
   "metadata": {},
   "outputs": [],
   "source": [
    "class NutritionInfo:\n",
    "    def __init__(self, proteins, carbs, fats):\n",
    "        self.proteins = proteins\n",
    "        self.carbs = carbs\n",
    "        self.fats = fats\n",
    "    \n",
    "    def __add__(self, other):\n",
    "        return NutritionInfo(self.proteins + other.proteins, self.carbs + other.carbs, self.fats + other.fats)\n",
    "    \n",
    "    def __mul__(self, number):\n",
    "        if type(number)==int or type(number)==float:\n",
    "            return NutritionInfo(self.proteins*number, self.carbs*number, self.fats*number)\n",
    "        else:\n",
    "            return 'Something went wrong...'\n",
    "    \n",
    "    def __str__(self):\n",
    "        return f\"Nutrition p {self.proteins}, c {self.carbs}, f {self.fats}\"\n",
    "        \n",
    "    def energy(self):\n",
    "        return int(self.fats * 9 + (self.carbs + self.proteins) * 4.2)"
   ]
  },
  {
   "cell_type": "code",
   "execution_count": 24,
   "id": "285f4df6",
   "metadata": {},
   "outputs": [
    {
     "name": "stdout",
     "output_type": "stream",
     "text": [
      "Nutrition p 1, c 2, f 3\n",
      "Nutrition p 1, c 2, f 3\n",
      "Nutrition p 18, c 3, f 9\n",
      "Nutrition p 2, c 4, f 6\n",
      "Nutrition p 2, c 4, f 6\n",
      "Nutrition p 56, c 13, f 33\n",
      "Nutrition p 45.0, c 7.5, f 22.5\n",
      "Something went wrong...\n"
     ]
    }
   ],
   "source": [
    "egg = NutritionInfo(1, 2, 3)\n",
    "pastila = NutritionInfo(1, 2, 3)\n",
    "tvorog_9 = NutritionInfo(18, 3, 9)\n",
    "apple = NutritionInfo(0, 25, 0)\n",
    "\n",
    "print(egg)\n",
    "print(pastila)\n",
    "print(tvorog_9)\n",
    "print(egg + pastila)\n",
    "print(egg*2)\n",
    "print(egg*2+tvorog_9*3)\n",
    "print(tvorog_9*2.5)\n",
    "print(egg*apple)"
   ]
  },
  {
   "cell_type": "code",
   "execution_count": null,
   "id": "bf84a0ec",
   "metadata": {},
   "outputs": [],
   "source": []
  }
 ],
 "metadata": {
  "kernelspec": {
   "display_name": "Python 3 (ipykernel)",
   "language": "python",
   "name": "python3"
  },
  "language_info": {
   "codemirror_mode": {
    "name": "ipython",
    "version": 3
   },
   "file_extension": ".py",
   "mimetype": "text/x-python",
   "name": "python",
   "nbconvert_exporter": "python",
   "pygments_lexer": "ipython3",
   "version": "3.9.13"
  }
 },
 "nbformat": 4,
 "nbformat_minor": 5
}
