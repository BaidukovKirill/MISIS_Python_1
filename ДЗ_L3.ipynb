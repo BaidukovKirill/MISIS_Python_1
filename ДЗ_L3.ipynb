{
 "cells": [
  {
   "cell_type": "markdown",
   "id": "410d1544",
   "metadata": {},
   "source": [
    "## Задача 1\n",
    "Какой месяц?"
   ]
  },
  {
   "cell_type": "code",
   "execution_count": 20,
   "id": "62ba277d",
   "metadata": {},
   "outputs": [
    {
     "name": "stdout",
     "output_type": "stream",
     "text": [
      "Введите номер месяца: 1\n",
      "Месяцем с номером 1 является Январь\n"
     ]
    }
   ],
   "source": [
    "months = ['Январь',\n",
    "         'Февраль',\n",
    "          'Март',\n",
    "          'Апрель',\n",
    "          'Май',\n",
    "          'Июнь',\n",
    "          'Июль',\n",
    "          'Август',          \n",
    "          'Сентябрь',\n",
    "          'Октябрь',\n",
    "          'Ноябрь',\n",
    "          'Декабрь'\n",
    "         ]\n",
    "\n",
    "month = input('Введите номер месяца: ')\n",
    "\n",
    "if month.isdigit():\n",
    "    month = int(month)\n",
    "    if month<=len(months) and month>0:\n",
    "        print(f'Месяцем с номером {month} является {months[month-1]}')\n",
    "        \n",
    "    else:\n",
    "        print('Double oops...')\n",
    "else:\n",
    "    print('Oops...')\n",
    "\n"
   ]
  },
  {
   "cell_type": "markdown",
   "id": "68cf616e",
   "metadata": {},
   "source": [
    "## Задача 2\n",
    "Наибольший общий делитель"
   ]
  },
  {
   "cell_type": "code",
   "execution_count": 29,
   "id": "ec54c774",
   "metadata": {},
   "outputs": [
    {
     "name": "stdout",
     "output_type": "stream",
     "text": [
      "Введите первое число: 600\n",
      "Введите второе число: 1200\n",
      "NOD of 600 and 1200 is 600\n"
     ]
    }
   ],
   "source": [
    "first = int(input('Введите первое число: '))\n",
    "second = int(input('Введите второе число: '))\n",
    "\n",
    "NOD = 1\n",
    "\n",
    "temp = min(first, second)\n",
    "\n",
    "for i in range(1, temp+1):\n",
    "    if (first%i==0) and (second%i==0):\n",
    "        NOD=i\n",
    "\n",
    "print(f'NOD of {first} and {second} is {NOD}')"
   ]
  },
  {
   "cell_type": "markdown",
   "id": "a7da7e36",
   "metadata": {},
   "source": [
    "## Задача 3\n",
    "Проверка расширения файла"
   ]
  },
  {
   "cell_type": "code",
   "execution_count": 25,
   "id": "2d301bab",
   "metadata": {},
   "outputs": [
    {
     "name": "stdout",
     "output_type": "stream",
     "text": [
      "Введите имя файла: hello.py\n",
      "Введите допустимые расширения через пробелpy ru eu bpm doc docx gif\n",
      "Mucho gusto!\n"
     ]
    }
   ],
   "source": [
    "file_name = input('Введите имя файла: ')\n",
    "extensions = list(map(str, input('Введите допустимые расширения через пробел: ').split()))\n",
    "\n",
    "if '.' in file_name:\n",
    "    extension = file_name.split('.')[-1]\n",
    "    if extension in extensions:\n",
    "        print('Mucho gusto!')\n",
    "    else:\n",
    "        print('Epic fail...')"
   ]
  },
  {
   "cell_type": "markdown",
   "id": "cfaadaeb",
   "metadata": {},
   "source": [
    "## Задача 4\n",
    "Високосный год"
   ]
  },
  {
   "cell_type": "code",
   "execution_count": 32,
   "id": "57fba7e2",
   "metadata": {},
   "outputs": [
    {
     "name": "stdout",
     "output_type": "stream",
     "text": [
      "Year: 2022\n",
      "Год 2022 НЕ високосный\n"
     ]
    }
   ],
   "source": [
    "year = input('Year: ')\n",
    "while not year.isdigit():\n",
    "    year = input('Year: ')\n",
    "year = int(year)\n",
    "\n",
    "if year%400==0:\n",
    "    print(f'Год {year} високосный')\n",
    "elif year%100==0:\n",
    "    print(f'Год {year} НЕ високосный')\n",
    "elif year%4==0:\n",
    "    print(f'Год {year} високосный')\n",
    "else:\n",
    "    print(f'Год {year} НЕ високосный')"
   ]
  },
  {
   "cell_type": "code",
   "execution_count": null,
   "id": "ae667e68",
   "metadata": {},
   "outputs": [],
   "source": []
  }
 ],
 "metadata": {
  "kernelspec": {
   "display_name": "Python 3",
   "language": "python",
   "name": "python3"
  },
  "language_info": {
   "codemirror_mode": {
    "name": "ipython",
    "version": 3
   },
   "file_extension": ".py",
   "mimetype": "text/x-python",
   "name": "python",
   "nbconvert_exporter": "python",
   "pygments_lexer": "ipython3",
   "version": "3.8.10"
  }
 },
 "nbformat": 4,
 "nbformat_minor": 5
}
