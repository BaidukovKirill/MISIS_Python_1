{
 "cells": [
  {
   "cell_type": "markdown",
   "id": "faf4d7e3",
   "metadata": {},
   "source": [
    "ДЗ 1 Классификация Домашнее задание из двух частей. (после НГ)\n",
    "База про спортсменов\n",
    "\n",
    "Креативная часть: найти парамеры и комбинации их, которые будут увеличивать accuracy\n",
    "\n",
    "Техническая часть: сделать под это всё удобные обёртки. Например, это функция, которая просто принимает список фичей, а на выходе показывает результат фита"
   ]
  },
  {
   "cell_type": "markdown",
   "id": "6720502f",
   "metadata": {},
   "source": [
    "### Подключаем библиотеки"
   ]
  },
  {
   "cell_type": "code",
   "execution_count": 2,
   "id": "3c25ba3d",
   "metadata": {},
   "outputs": [],
   "source": [
    "import pandas as pd\n",
    "import seaborn as sns\n",
    "from sklearn import datasets, linear_model, model_selection\n",
    "from sklearn.metrics import mean_squared_error, r2_score, confusion_matrix\n",
    "from sklearn.model_selection import cross_val_score\n",
    "from sklearn.metrics import classification_report"
   ]
  },
  {
   "cell_type": "code",
   "execution_count": 535,
   "id": "7288c184",
   "metadata": {},
   "outputs": [],
   "source": [
    "import warnings\n",
    "\n",
    "warnings.filterwarnings('ignore')"
   ]
  },
  {
   "cell_type": "markdown",
   "id": "f45729fc",
   "metadata": {},
   "source": [
    "### Загружаем исходные данные"
   ]
  },
  {
   "cell_type": "code",
   "execution_count": 551,
   "id": "8c760be1",
   "metadata": {},
   "outputs": [
    {
     "data": {
      "text/html": [
       "<div>\n",
       "<style scoped>\n",
       "    .dataframe tbody tr th:only-of-type {\n",
       "        vertical-align: middle;\n",
       "    }\n",
       "\n",
       "    .dataframe tbody tr th {\n",
       "        vertical-align: top;\n",
       "    }\n",
       "\n",
       "    .dataframe thead th {\n",
       "        text-align: right;\n",
       "    }\n",
       "</style>\n",
       "<table border=\"1\" class=\"dataframe\">\n",
       "  <thead>\n",
       "    <tr style=\"text-align: right;\">\n",
       "      <th></th>\n",
       "      <th>age</th>\n",
       "      <th>birthdate</th>\n",
       "      <th>gender</th>\n",
       "      <th>height</th>\n",
       "      <th>name</th>\n",
       "      <th>weight</th>\n",
       "      <th>gold_medals</th>\n",
       "      <th>silver_medals</th>\n",
       "      <th>bronze_medals</th>\n",
       "      <th>total_medals</th>\n",
       "      <th>sport</th>\n",
       "      <th>country</th>\n",
       "    </tr>\n",
       "  </thead>\n",
       "  <tbody>\n",
       "    <tr>\n",
       "      <th>0</th>\n",
       "      <td>17</td>\n",
       "      <td>1996-04-12</td>\n",
       "      <td>Male</td>\n",
       "      <td>1.72</td>\n",
       "      <td>Aaron Blunck</td>\n",
       "      <td>68.0</td>\n",
       "      <td>0</td>\n",
       "      <td>0</td>\n",
       "      <td>0</td>\n",
       "      <td>0</td>\n",
       "      <td>Freestyle Skiing</td>\n",
       "      <td>United States</td>\n",
       "    </tr>\n",
       "    <tr>\n",
       "      <th>1</th>\n",
       "      <td>27</td>\n",
       "      <td>1986-05-14</td>\n",
       "      <td>Male</td>\n",
       "      <td>1.85</td>\n",
       "      <td>Aaron March</td>\n",
       "      <td>85.0</td>\n",
       "      <td>0</td>\n",
       "      <td>0</td>\n",
       "      <td>0</td>\n",
       "      <td>0</td>\n",
       "      <td>Snowboard</td>\n",
       "      <td>Italy</td>\n",
       "    </tr>\n",
       "    <tr>\n",
       "      <th>2</th>\n",
       "      <td>21</td>\n",
       "      <td>1992-06-30</td>\n",
       "      <td>Male</td>\n",
       "      <td>1.78</td>\n",
       "      <td>Abzal Azhgaliyev</td>\n",
       "      <td>68.0</td>\n",
       "      <td>0</td>\n",
       "      <td>0</td>\n",
       "      <td>0</td>\n",
       "      <td>0</td>\n",
       "      <td>Short Track</td>\n",
       "      <td>Kazakhstan</td>\n",
       "    </tr>\n",
       "    <tr>\n",
       "      <th>3</th>\n",
       "      <td>21</td>\n",
       "      <td>1992-05-25</td>\n",
       "      <td>Male</td>\n",
       "      <td>1.68</td>\n",
       "      <td>Abzal Rakimgaliev</td>\n",
       "      <td>NaN</td>\n",
       "      <td>0</td>\n",
       "      <td>0</td>\n",
       "      <td>0</td>\n",
       "      <td>0</td>\n",
       "      <td>Figure Skating</td>\n",
       "      <td>Kazakhstan</td>\n",
       "    </tr>\n",
       "    <tr>\n",
       "      <th>4</th>\n",
       "      <td>21</td>\n",
       "      <td>1992-07-30</td>\n",
       "      <td>Male</td>\n",
       "      <td>1.86</td>\n",
       "      <td>Adam Barwood</td>\n",
       "      <td>82.0</td>\n",
       "      <td>0</td>\n",
       "      <td>0</td>\n",
       "      <td>0</td>\n",
       "      <td>0</td>\n",
       "      <td>Alpine Skiing</td>\n",
       "      <td>New Zealand</td>\n",
       "    </tr>\n",
       "  </tbody>\n",
       "</table>\n",
       "</div>"
      ],
      "text/plain": [
       "   age   birthdate gender  height               name  weight  gold_medals  \\\n",
       "0   17  1996-04-12   Male    1.72       Aaron Blunck    68.0            0   \n",
       "1   27  1986-05-14   Male    1.85        Aaron March    85.0            0   \n",
       "2   21  1992-06-30   Male    1.78   Abzal Azhgaliyev    68.0            0   \n",
       "3   21  1992-05-25   Male    1.68  Abzal Rakimgaliev     NaN            0   \n",
       "4   21  1992-07-30   Male    1.86       Adam Barwood    82.0            0   \n",
       "\n",
       "   silver_medals  bronze_medals  total_medals             sport        country  \n",
       "0              0              0             0  Freestyle Skiing  United States  \n",
       "1              0              0             0         Snowboard          Italy  \n",
       "2              0              0             0       Short Track     Kazakhstan  \n",
       "3              0              0             0    Figure Skating     Kazakhstan  \n",
       "4              0              0             0     Alpine Skiing    New Zealand  "
      ]
     },
     "execution_count": 551,
     "metadata": {},
     "output_type": "execute_result"
    }
   ],
   "source": [
    "file_path = 'athletes_sochi.txt'\n",
    "df = pd.read_csv(file_path)\n",
    "df.head()"
   ]
  },
  {
   "cell_type": "code",
   "execution_count": 552,
   "id": "c756bc8f",
   "metadata": {},
   "outputs": [
    {
     "data": {
      "text/plain": [
       "(2859, 12)"
      ]
     },
     "execution_count": 552,
     "metadata": {},
     "output_type": "execute_result"
    }
   ],
   "source": [
    "df.shape"
   ]
  },
  {
   "cell_type": "markdown",
   "id": "7e070498",
   "metadata": {},
   "source": [
    "### Чистим данные от NaN"
   ]
  },
  {
   "cell_type": "code",
   "execution_count": 553,
   "id": "258257ad",
   "metadata": {},
   "outputs": [
    {
     "data": {
      "text/plain": [
       "(2479, 12)"
      ]
     },
     "execution_count": 553,
     "metadata": {},
     "output_type": "execute_result"
    }
   ],
   "source": [
    "df = df.dropna()\n",
    "df.shape"
   ]
  },
  {
   "cell_type": "markdown",
   "id": "8d0a862a",
   "metadata": {},
   "source": [
    "### Попробуем насчитать всяких индексов, связанных с ростом, весом и возрастом\n",
    "Сделаем фокус на физиолгоических параметрах, учесть медали/страны/имена будет проблематично и пока что непонятно, выборка мала\n"
   ]
  },
  {
   "cell_type": "code",
   "execution_count": 554,
   "id": "98647987",
   "metadata": {},
   "outputs": [
    {
     "data": {
      "image/png": "[encoded data removed]",
      "text/plain": [
       "<Figure size 640x480 with 1 Axes>"
      ]
     },
     "metadata": {},
     "output_type": "display_data"
    }
   ],
   "source": [
    "bplot = sns.boxplot(data=df, x=\"gender\", y=\"age\",orient='v')"
   ]
  },
  {
   "cell_type": "code",
   "execution_count": 555,
   "id": "99b93796",
   "metadata": {},
   "outputs": [
    {
     "data": {
      "image/png": "[encoded data removed]",
      "text/plain": [
       "<Figure size 640x480 with 1 Axes>"
      ]
     },
     "metadata": {},
     "output_type": "display_data"
    }
   ],
   "source": [
    "bplot = sns.boxplot(data=df, x=\"gender\", y=\"weight\",orient='v')"
   ]
  },
  {
   "cell_type": "code",
   "execution_count": 556,
   "id": "54454584",
   "metadata": {},
   "outputs": [
    {
     "data": {
      "image/png": "[encoded data removed]",
      "text/plain": [
       "<Figure size 640x480 with 1 Axes>"
      ]
     },
     "metadata": {},
     "output_type": "display_data"
    }
   ],
   "source": [
    "bplot = sns.boxplot(data=df, x=\"gender\", y=\"height\",orient='v')"
   ]
  },
  {
   "attachments": {
    "image.png": {
     "image/png": "[encoded data removed]"
    }
   },
   "cell_type": "markdown",
   "id": "cd3a5698",
   "metadata": {},
   "source": [
    "#### Классический BMI\n",
    "![image.png](attachment:image.png)"
   ]
  },
  {
   "cell_type": "code",
   "execution_count": 557,
   "id": "02710f1f",
   "metadata": {},
   "outputs": [],
   "source": [
    "df['BMI'] = df['weight'] / df['height']**2"
   ]
  },
  {
   "cell_type": "code",
   "execution_count": 558,
   "id": "a36b03dc",
   "metadata": {},
   "outputs": [
    {
     "data": {
      "image/png": "[encoded data removed]",
      "text/plain": [
       "<Figure size 640x480 with 1 Axes>"
      ]
     },
     "metadata": {},
     "output_type": "display_data"
    }
   ],
   "source": [
    "bplot = sns.boxplot(data=df, x=\"gender\", y=\"BMI\",orient='v')"
   ]
  },
  {
   "attachments": {
    "image.png": {
     "image/png": "[encoded data removed]"
    }
   },
   "cell_type": "markdown",
   "id": "b9d96333",
   "metadata": {},
   "source": [
    "#### Новый  BMI\n",
    "https://people.maths.ox.ac.uk/trefethen/bmi.html\n",
    "![image.png](attachment:image.png)"
   ]
  },
  {
   "cell_type": "code",
   "execution_count": 559,
   "id": "6c2e9175",
   "metadata": {},
   "outputs": [],
   "source": [
    "df['NBMI'] = 1.3 * df['weight'] / df['height']**2.5"
   ]
  },
  {
   "cell_type": "code",
   "execution_count": 560,
   "id": "850921fd",
   "metadata": {},
   "outputs": [
    {
     "data": {
      "image/png": "[encoded data removed]",
      "text/plain": [
       "<Figure size 640x480 with 1 Axes>"
      ]
     },
     "metadata": {},
     "output_type": "display_data"
    }
   ],
   "source": [
    "bplot = sns.boxplot(data=df, x=\"gender\", y=\"NBMI\",orient='v')"
   ]
  },
  {
   "attachments": {
    "image-2.png": {
     "image/png": "[encoded data removed]"
    }
   },
   "cell_type": "markdown",
   "id": "e2e67b3f",
   "metadata": {},
   "source": [
    "#### BSA (Body Surface Area)\n",
    "![image-2.png](attachment:image-2.png)"
   ]
  },
  {
   "cell_type": "code",
   "execution_count": 561,
   "id": "b79d04fd",
   "metadata": {},
   "outputs": [],
   "source": [
    "df['BSA'] = 0.007184 *  df['weight']**(0.425) * df['height']**(0.725)"
   ]
  },
  {
   "cell_type": "code",
   "execution_count": 562,
   "id": "e1eb5564",
   "metadata": {},
   "outputs": [
    {
     "data": {
      "image/png": "[encoded data removed]",
      "text/plain": [
       "<Figure size 640x480 with 1 Axes>"
      ]
     },
     "metadata": {},
     "output_type": "display_data"
    }
   ],
   "source": [
    "bplot = sns.boxplot(data=df, x=\"gender\", y=\"BSA\",orient='v')"
   ]
  },
  {
   "cell_type": "code",
   "execution_count": null,
   "id": "09d88b70",
   "metadata": {},
   "outputs": [],
   "source": []
  },
  {
   "cell_type": "markdown",
   "id": "d8315f4a",
   "metadata": {},
   "source": [
    "#### Оставим следующие колонки для дальнейшей работы:\n",
    "- weight\n",
    "- height\n",
    "- BMI\n",
    "- NBMI\n",
    "- BSA  \n",
    "По age напрямую сложно будет делать классификацию, судя по распределению."
   ]
  },
  {
   "cell_type": "code",
   "execution_count": 563,
   "id": "1e811732",
   "metadata": {},
   "outputs": [
    {
     "data": {
      "text/html": [
       "<div>\n",
       "<style scoped>\n",
       "    .dataframe tbody tr th:only-of-type {\n",
       "        vertical-align: middle;\n",
       "    }\n",
       "\n",
       "    .dataframe tbody tr th {\n",
       "        vertical-align: top;\n",
       "    }\n",
       "\n",
       "    .dataframe thead th {\n",
       "        text-align: right;\n",
       "    }\n",
       "</style>\n",
       "<table border=\"1\" class=\"dataframe\">\n",
       "  <thead>\n",
       "    <tr style=\"text-align: right;\">\n",
       "      <th></th>\n",
       "      <th>gender</th>\n",
       "      <th>height</th>\n",
       "      <th>weight</th>\n",
       "      <th>BMI</th>\n",
       "      <th>NBMI</th>\n",
       "      <th>BSA</th>\n",
       "    </tr>\n",
       "  </thead>\n",
       "  <tbody>\n",
       "    <tr>\n",
       "      <th>0</th>\n",
       "      <td>Male</td>\n",
       "      <td>1.72</td>\n",
       "      <td>68.0</td>\n",
       "      <td>22.985398</td>\n",
       "      <td>22.784062</td>\n",
       "      <td>0.063965</td>\n",
       "    </tr>\n",
       "    <tr>\n",
       "      <th>1</th>\n",
       "      <td>Male</td>\n",
       "      <td>1.85</td>\n",
       "      <td>85.0</td>\n",
       "      <td>24.835646</td>\n",
       "      <td>23.737390</td>\n",
       "      <td>0.074143</td>\n",
       "    </tr>\n",
       "    <tr>\n",
       "      <th>2</th>\n",
       "      <td>Male</td>\n",
       "      <td>1.78</td>\n",
       "      <td>68.0</td>\n",
       "      <td>21.461937</td>\n",
       "      <td>20.912322</td>\n",
       "      <td>0.065575</td>\n",
       "    </tr>\n",
       "    <tr>\n",
       "      <th>4</th>\n",
       "      <td>Male</td>\n",
       "      <td>1.86</td>\n",
       "      <td>82.0</td>\n",
       "      <td>23.702162</td>\n",
       "      <td>22.593049</td>\n",
       "      <td>0.073305</td>\n",
       "    </tr>\n",
       "    <tr>\n",
       "      <th>5</th>\n",
       "      <td>Male</td>\n",
       "      <td>1.75</td>\n",
       "      <td>57.0</td>\n",
       "      <td>18.612245</td>\n",
       "      <td>18.290395</td>\n",
       "      <td>0.060092</td>\n",
       "    </tr>\n",
       "  </tbody>\n",
       "</table>\n",
       "</div>"
      ],
      "text/plain": [
       "  gender  height  weight        BMI       NBMI       BSA\n",
       "0   Male    1.72    68.0  22.985398  22.784062  0.063965\n",
       "1   Male    1.85    85.0  24.835646  23.737390  0.074143\n",
       "2   Male    1.78    68.0  21.461937  20.912322  0.065575\n",
       "4   Male    1.86    82.0  23.702162  22.593049  0.073305\n",
       "5   Male    1.75    57.0  18.612245  18.290395  0.060092"
      ]
     },
     "execution_count": 563,
     "metadata": {},
     "output_type": "execute_result"
    }
   ],
   "source": [
    "df = df[['gender', 'height', 'weight', 'BMI', 'NBMI', 'BSA']]\n",
    "df.head()"
   ]
  },
  {
   "cell_type": "markdown",
   "id": "d0752833",
   "metadata": {},
   "source": [
    "#### Посмотрим на соотношение мужчин и женщин"
   ]
  },
  {
   "cell_type": "code",
   "execution_count": 564,
   "id": "d9365aaa",
   "metadata": {},
   "outputs": [
    {
     "data": {
      "text/plain": [
       "966"
      ]
     },
     "execution_count": 564,
     "metadata": {},
     "output_type": "execute_result"
    }
   ],
   "source": [
    "df[df['gender']=='Female'].count()[0]"
   ]
  },
  {
   "cell_type": "code",
   "execution_count": 565,
   "id": "bf500f88",
   "metadata": {},
   "outputs": [
    {
     "data": {
      "text/plain": [
       "1513"
      ]
     },
     "execution_count": 565,
     "metadata": {},
     "output_type": "execute_result"
    }
   ],
   "source": [
    "df[df['gender']=='Male'].count()[0]"
   ]
  },
  {
   "cell_type": "markdown",
   "id": "affbabbe",
   "metadata": {},
   "source": [
    "Небольшой дизбаланс есть, но не критичный, по идее"
   ]
  },
  {
   "cell_type": "markdown",
   "id": "2da8bfdb",
   "metadata": {},
   "source": [
    "#### Теперь займёмся функцией, которая принимает на вход наш датафрейм и список фичей, а возвращает результат фита\n",
    "Метод будет использоваться, что и на лекции - Логистическая регрессия"
   ]
  },
  {
   "cell_type": "code",
   "execution_count": 566,
   "id": "5c640f36",
   "metadata": {},
   "outputs": [],
   "source": [
    "def lets_go(dataframe, feature_list):\n",
    "    temp = dataframe.copy()\n",
    "\n",
    "    exist_features = temp.columns.tolist()\n",
    "    \n",
    "    to_use_feature_list = list(set(exist_features).intersection(set(feature_list)))\n",
    "    \n",
    "    if 'gender' in to_use_feature_list:\n",
    "        to_use_feature_list.remove('gender')\n",
    "    \n",
    "    \n",
    "    if len(to_use_feature_list) >0:\n",
    "        allinput = temp[to_use_feature_list]\n",
    "        alloutput = temp['gender'].apply(lambda x: int(x == \"Male\"))\n",
    "        \n",
    "        \n",
    "        X_train, X_test, Y_train, Y_test = model_selection.train_test_split(allinput, alloutput, test_size=0.2)\n",
    "        \n",
    "        model = linear_model.LogisticRegression()\n",
    "        \n",
    "        model.fit(X_train, Y_train)\n",
    "        \n",
    "        Y_test_predicted = model.predict(X_test)\n",
    "        \n",
    "        report = classification_report(Y_test, model.predict(X_test), target_names=['Male', 'Female'], output_dict = True)\n",
    "        \n",
    "        return report\n",
    "    else:\n",
    "        return 'No features in dataframe'"
   ]
  },
  {
   "cell_type": "code",
   "execution_count": 567,
   "id": "10d466e2",
   "metadata": {},
   "outputs": [
    {
     "name": "stdout",
     "output_type": "stream",
     "text": [
      "0.8508064516129032\n"
     ]
    }
   ],
   "source": [
    "feature_list = df.columns.tolist()\n",
    "result = lets_go(df, feature_list)\n",
    "print( result['accuracy'] )\n"
   ]
  },
  {
   "cell_type": "code",
   "execution_count": 568,
   "id": "2f7886b9",
   "metadata": {},
   "outputs": [],
   "source": [
    "from itertools import combinations"
   ]
  },
  {
   "cell_type": "code",
   "execution_count": 569,
   "id": "1c1dd6f1",
   "metadata": {},
   "outputs": [
    {
     "name": "stdout",
     "output_type": "stream",
     "text": [
      "('gender',) -1.0\n",
      "('height',) 0.8534072580645164\n",
      "('weight',) 0.8403629032258064\n",
      "('BMI',) 0.7194354838709675\n",
      "('NBMI',) 0.6524395161290322\n",
      "('BSA',) 0.6099193548387097\n",
      "('gender', 'height') 0.8524798387096773\n",
      "('gender', 'weight') 0.8443548387096772\n",
      "('gender', 'BMI') 0.7190927419354837\n",
      "('gender', 'NBMI') 0.6538709677419352\n",
      "('gender', 'BSA') 0.612883064516129\n",
      "('height', 'weight') 0.8544758064516127\n",
      "('height', 'BMI') 0.8557661290322581\n",
      "('height', 'NBMI') 0.8560282258064518\n",
      "('height', 'BSA') 0.8518346774193549\n",
      "('weight', 'BMI') 0.8654838709677418\n",
      "('weight', 'NBMI') 0.8670362903225808\n",
      "('weight', 'BSA') 0.8417540322580649\n",
      "('BMI', 'NBMI') 0.8666935483870966\n",
      "('BMI', 'BSA') 0.7245161290322577\n",
      "('NBMI', 'BSA') 0.6592943548387098\n",
      "('gender', 'height', 'weight') 0.8545161290322578\n",
      "('gender', 'height', 'BMI') 0.858064516129032\n",
      "('gender', 'height', 'NBMI') 0.856491935483871\n",
      "('gender', 'height', 'BSA') 0.851995967741935\n",
      "('gender', 'weight', 'BMI') 0.866673387096774\n",
      "('gender', 'weight', 'NBMI') 0.865181451612903\n",
      "('gender', 'weight', 'BSA') 0.8437903225806448\n",
      "('gender', 'BMI', 'NBMI') 0.8629435483870962\n",
      "('gender', 'BMI', 'BSA') 0.7229637096774194\n",
      "('gender', 'NBMI', 'BSA') 0.661290322580645\n",
      "('height', 'weight', 'BMI') 0.8635080645161292\n",
      "('height', 'weight', 'NBMI') 0.8642540322580646\n",
      "('height', 'weight', 'BSA') 0.8535685483870965\n",
      "('height', 'BMI', 'NBMI') 0.8634274193548385\n",
      "('height', 'BMI', 'BSA') 0.8554233870967739\n",
      "('height', 'NBMI', 'BSA') 0.8585282258064518\n",
      "('weight', 'BMI', 'NBMI') 0.866512096774193\n",
      "('weight', 'BMI', 'BSA') 0.8666935483870967\n",
      "('weight', 'NBMI', 'BSA') 0.8667540322580645\n",
      "('BMI', 'NBMI', 'BSA') 0.8639112903225805\n",
      "('gender', 'height', 'weight', 'BMI') 0.8630040322580644\n",
      "('gender', 'height', 'weight', 'NBMI') 0.866552419354839\n",
      "('gender', 'height', 'weight', 'BSA') 0.8558266129032256\n",
      "('gender', 'height', 'BMI', 'NBMI') 0.8651008064516124\n",
      "('gender', 'height', 'BMI', 'BSA') 0.856875\n",
      "('gender', 'height', 'NBMI', 'BSA') 0.8598991935483871\n",
      "('gender', 'weight', 'BMI', 'NBMI') 0.8656048387096777\n",
      "('gender', 'weight', 'BMI', 'BSA') 0.8654838709677418\n",
      "('gender', 'weight', 'NBMI', 'BSA') 0.8648790322580647\n",
      "('gender', 'BMI', 'NBMI', 'BSA') 0.8667338709677418\n",
      "('height', 'weight', 'BMI', 'NBMI') 0.8668145161290319\n",
      "('height', 'weight', 'BMI', 'BSA') 0.8678427419354838\n",
      "('height', 'weight', 'NBMI', 'BSA') 0.8655645161290324\n",
      "('height', 'BMI', 'NBMI', 'BSA') 0.8639516129032259\n",
      "('weight', 'BMI', 'NBMI', 'BSA') 0.8657459677419355\n",
      "('gender', 'height', 'weight', 'BMI', 'NBMI') 0.8644354838709677\n",
      "('gender', 'height', 'weight', 'BMI', 'BSA') 0.8666532258064517\n",
      "('gender', 'height', 'weight', 'NBMI', 'BSA') 0.8664717741935484\n",
      "('gender', 'height', 'BMI', 'NBMI', 'BSA') 0.864173387096774\n",
      "('gender', 'weight', 'BMI', 'NBMI', 'BSA') 0.8677217741935485\n",
      "('height', 'weight', 'BMI', 'NBMI', 'BSA') 0.8643951612903226\n",
      "('gender', 'height', 'weight', 'BMI', 'NBMI', 'BSA') 0.8644556451612903\n",
      "Wall time: 1min 11s\n"
     ]
    }
   ],
   "source": [
    "%%time\n",
    "feature_list = df.columns.tolist()\n",
    "\n",
    "accuracy = {}\n",
    "\n",
    "number_of_iterations = 100\n",
    "\n",
    "for x in range(1,len(feature_list)+1):\n",
    "    combination = combinations(feature_list, x)\n",
    "    for i in list(combination):\n",
    "        for_combination_mean_result = []\n",
    "        for iteration in range(number_of_iterations):\n",
    "            result = lets_go(df, list(i))\n",
    "            try:\n",
    "                for_combination_mean_result.append(result['accuracy'])\n",
    "            except:\n",
    "                for_combination_mean_result.append(-1)\n",
    "\n",
    "        accuracy[i] = sum(for_combination_mean_result) / len(for_combination_mean_result)\n",
    "        print(i, accuracy[i])\n"
   ]
  },
  {
   "cell_type": "code",
   "execution_count": 570,
   "id": "e4c9142c",
   "metadata": {},
   "outputs": [
    {
     "name": "stdout",
     "output_type": "stream",
     "text": [
      "('height', 'weight', 'BMI', 'BSA')\n",
      "0.8678427419354838\n"
     ]
    }
   ],
   "source": [
    "print(max(accuracy, key=accuracy.get))\n",
    "\n",
    "print(accuracy[max(accuracy, key=accuracy.get)])"
   ]
  },
  {
   "cell_type": "code",
   "execution_count": 571,
   "id": "3b0dbca9",
   "metadata": {},
   "outputs": [
    {
     "name": "stdout",
     "output_type": "stream",
     "text": [
      "('height', 'weight', 'BMI') 0.8635080645161292\n"
     ]
    }
   ],
   "source": [
    "from_lection = ['height', 'weight', 'BMI']\n",
    "from_lection = tuple(from_lection)\n",
    "print(from_lection, accuracy[from_lection])"
   ]
  },
  {
   "attachments": {
    "image.png": {
     "image/png": "[encoded data removed]"
    }
   },
   "cell_type": "markdown",
   "id": "41a9a4d2",
   "metadata": {},
   "source": [
    "Accuracy из лекции\n",
    "![image.png](attachment:image.png)"
   ]
  },
  {
   "cell_type": "markdown",
   "id": "8225ec72",
   "metadata": {},
   "source": [
    "### Вывод\n",
    "В ходе работы accuracy существенно не изменился, несмотря на то, что стало больше фичей, чем в лекции. "
   ]
  },
  {
   "cell_type": "code",
   "execution_count": null,
   "id": "73154307",
   "metadata": {},
   "outputs": [],
   "source": []
  },
  {
   "cell_type": "code",
   "execution_count": null,
   "id": "c7419e51",
   "metadata": {},
   "outputs": [],
   "source": []
  }
 ],
 "metadata": {
  "kernelspec": {
   "display_name": "Python 3 (ipykernel)",
   "language": "python",
   "name": "python3"
  },
  "language_info": {
   "codemirror_mode": {
    "name": "ipython",
    "version": 3
   },
   "file_extension": ".py",
   "mimetype": "text/x-python",
   "name": "python",
   "nbconvert_exporter": "python",
   "pygments_lexer": "ipython3",
   "version": "3.9.13"
  }
 },
 "nbformat": 4,
 "nbformat_minor": 5
}
