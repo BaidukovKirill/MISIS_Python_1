{
 "cells": [
  {
   "cell_type": "markdown",
   "id": "d83e10c9",
   "metadata": {},
   "source": [
    "## Задание 1\n",
    "Сделайте так, чтобы число секунд отображалось в виде дни:часы:минуты:секунды."
   ]
  },
  {
   "cell_type": "code",
   "execution_count": 6,
   "id": "becd505c",
   "metadata": {},
   "outputs": [
    {
     "name": "stdout",
     "output_type": "stream",
     "text": [
      "Введите число секунд:\n",
      "10819239871947\n",
      "125222683:16:52:27\n"
     ]
    }
   ],
   "source": [
    "seconds = int(input('Введите число секунд: '))\n",
    "\n",
    "if seconds>=0:\n",
    "    days = seconds//(60*60*24)\n",
    "    rest_of_seconds = seconds%(60*60*24)\n",
    "    \n",
    "    hours = rest_of_seconds//(60*60)\n",
    "    rest_of_seconds = rest_of_seconds%(60*60)\n",
    "    \n",
    "    minutes = rest_of_seconds//60\n",
    "    rest_of_seconds = rest_of_seconds%60\n",
    "    \n",
    "    seconds = rest_of_seconds\n",
    "    \n",
    "    print(f'{days}:{hours}:{minutes}:{seconds}')\n",
    "    \n",
    "else:\n",
    "    print('Oops...')"
   ]
  },
  {
   "cell_type": "markdown",
   "id": "af04e01d",
   "metadata": {},
   "source": [
    "## Задание 2\n",
    "Напишите калькулятор который запрашивает на входе две переменные и знак, и в соответствии с знаком ( + - * / ) выводит результат"
   ]
  },
  {
   "cell_type": "code",
   "execution_count": 12,
   "id": "53ff6534",
   "metadata": {},
   "outputs": [
    {
     "name": "stdout",
     "output_type": "stream",
     "text": [
      "Введите первую переменную: -100\n",
      "Введите вторую переменную: 0.5\n",
      "Введите операцию над переменными (x1 operation x2): *\n",
      "-100.0 * 0.5 = -50.0\n"
     ]
    }
   ],
   "source": [
    "x1 = float(input('Введите первую переменную: '))\n",
    "x2 = float(input('Введите вторую переменную: '))\n",
    "operation = input('Введите операцию над переменными (x1 operation x2): ')\n",
    "\n",
    "if operation == '+':\n",
    "    print(f'{x1} {operation} {x2} = {x1+x2}')\n",
    "elif operation == '-':\n",
    "    print(f'{x1} {operation} {x2} = {x1-x2}')\n",
    "elif operation == '*':\n",
    "    print(f'{x1} {operation} {x2} = {x1*x2}')\n",
    "elif operation == '/':\n",
    "    print(f'{x1} {operation} {x2} = {x1/x2}')\n",
    "else:\n",
    "    print('Oops...')"
   ]
  },
  {
   "cell_type": "markdown",
   "id": "638d13a8",
   "metadata": {},
   "source": [
    "## Задание 3\n",
    "Считайте 2 строки и выведите их на печать, разделив символом $.\n",
    "Попробуйте решить эту задачу как минимум 2 способами:\n",
    "\n",
    "1) с помощью конкатенации строк 2) с помощью указания разделителя в параметре sep метода print"
   ]
  },
  {
   "cell_type": "code",
   "execution_count": 14,
   "id": "7d73215a",
   "metadata": {},
   "outputs": [
    {
     "name": "stdout",
     "output_type": "stream",
     "text": [
      "Введите первую строку: Lionel\n",
      "Введите вторую строку: Messi\n",
      "Первый способ\n",
      "Lionel$Messi\n",
      "Второй способ\n",
      "Lionel$Messi\n"
     ]
    }
   ],
   "source": [
    "first_string = input('Введите первую строку: ')\n",
    "second_string = input('Введите вторую строку: ')\n",
    "\n",
    "print('Первый способ')\n",
    "print(first_string+'$'+second_string)\n",
    "print('Второй способ')\n",
    "print(first_string, second_string, sep='$')"
   ]
  },
  {
   "cell_type": "markdown",
   "id": "04573d81",
   "metadata": {},
   "source": [
    "## Задание 4\n",
    "Напишите поздравление с Днем рождения, где программа считает имя и возраст и выведет поздравление столько раз, сколько лет именнинику"
   ]
  },
  {
   "cell_type": "code",
   "execution_count": 16,
   "id": "d681f2a4",
   "metadata": {},
   "outputs": [
    {
     "name": "stdout",
     "output_type": "stream",
     "text": [
      "Введите имя: Кирилл\n",
      "Введите возраст: 22\n",
      "С днём рождения, Кирилл!\n",
      "С днём рождения, Кирилл!\n",
      "С днём рождения, Кирилл!\n",
      "С днём рождения, Кирилл!\n",
      "С днём рождения, Кирилл!\n",
      "С днём рождения, Кирилл!\n",
      "С днём рождения, Кирилл!\n",
      "С днём рождения, Кирилл!\n",
      "С днём рождения, Кирилл!\n",
      "С днём рождения, Кирилл!\n",
      "С днём рождения, Кирилл!\n",
      "С днём рождения, Кирилл!\n",
      "С днём рождения, Кирилл!\n",
      "С днём рождения, Кирилл!\n",
      "С днём рождения, Кирилл!\n",
      "С днём рождения, Кирилл!\n",
      "С днём рождения, Кирилл!\n",
      "С днём рождения, Кирилл!\n",
      "С днём рождения, Кирилл!\n",
      "С днём рождения, Кирилл!\n",
      "С днём рождения, Кирилл!\n",
      "С днём рождения, Кирилл!\n",
      "\n"
     ]
    }
   ],
   "source": [
    "name = input('Введите имя: ')\n",
    "age = int(input('Введите возраст: '))\n",
    "\n",
    "print(f'С днём рождения, {name}!\\n'*age)"
   ]
  },
  {
   "cell_type": "code",
   "execution_count": null,
   "id": "d97e7463",
   "metadata": {},
   "outputs": [],
   "source": []
  }
 ],
 "metadata": {
  "kernelspec": {
   "display_name": "Python 3",
   "language": "python",
   "name": "python3"
  },
  "language_info": {
   "codemirror_mode": {
    "name": "ipython",
    "version": 3
   },
   "file_extension": ".py",
   "mimetype": "text/x-python",
   "name": "python",
   "nbconvert_exporter": "python",
   "pygments_lexer": "ipython3",
   "version": "3.8.10"
  }
 },
 "nbformat": 4,
 "nbformat_minor": 5
}
