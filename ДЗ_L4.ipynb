{
 "cells": [
  {
   "cell_type": "markdown",
   "id": "6007a2fa",
   "metadata": {},
   "source": [
    "## Задание 1\n",
    "Напишите функцию, извлекающую корень n-й степени из числа x. По умолчанию def будет извлекать квадратный корень"
   ]
  },
  {
   "cell_type": "code",
   "execution_count": 99,
   "id": "629ca654",
   "metadata": {},
   "outputs": [],
   "source": [
    "def n_root(number, n=2):\n",
    "    result = number**(1/n)\n",
    "    return result"
   ]
  },
  {
   "cell_type": "code",
   "execution_count": 100,
   "id": "320d203f",
   "metadata": {},
   "outputs": [
    {
     "data": {
      "text/plain": [
       "3.0"
      ]
     },
     "execution_count": 100,
     "metadata": {},
     "output_type": "execute_result"
    }
   ],
   "source": [
    "n_root(27, n=3)"
   ]
  },
  {
   "cell_type": "code",
   "execution_count": 101,
   "id": "e2a512e9",
   "metadata": {},
   "outputs": [
    {
     "data": {
      "text/plain": [
       "10.0"
      ]
     },
     "execution_count": 101,
     "metadata": {},
     "output_type": "execute_result"
    }
   ],
   "source": [
    "n_root(100)"
   ]
  },
  {
   "cell_type": "markdown",
   "id": "8f819249",
   "metadata": {},
   "source": [
    "## Задание 2\n",
    "Перепишите ваш код для проверки расширения из прошлого ДЗ в функцию которая принимает список расширений и имя файла"
   ]
  },
  {
   "cell_type": "code",
   "execution_count": 102,
   "id": "18f3597a",
   "metadata": {},
   "outputs": [],
   "source": [
    "def extension_check(file_name, valid_extensions=[]):\n",
    "    file_extension = file_name.split('.')[-1]\n",
    "    if file_extension in valid_extensions:\n",
    "        return 'Musho gusto!'\n",
    "    else:\n",
    "        return 'Bruh'\n"
   ]
  },
  {
   "cell_type": "code",
   "execution_count": 103,
   "id": "c55c4d7f",
   "metadata": {},
   "outputs": [
    {
     "data": {
      "text/plain": [
       "'Musho gusto!'"
      ]
     },
     "execution_count": 103,
     "metadata": {},
     "output_type": "execute_result"
    }
   ],
   "source": [
    "valid_extensions = ['ru', 'gif', 'bpmn', 'docx']\n",
    "file_name = 'hello.bpmn'\n",
    "\n",
    "extension_check(file_name, valid_extensions)"
   ]
  },
  {
   "cell_type": "markdown",
   "id": "bb276b0b",
   "metadata": {},
   "source": [
    "## Задание 3\n",
    "Слейте воедино три словаря"
   ]
  },
  {
   "cell_type": "code",
   "execution_count": 104,
   "id": "b6d4439a",
   "metadata": {},
   "outputs": [
    {
     "data": {
      "text/plain": [
       "{1: 10, 2: 20, 3: 30, 4: 40, 5: 50, 6: 60, 7: 70, 8: 80}"
      ]
     },
     "execution_count": 104,
     "metadata": {},
     "output_type": "execute_result"
    }
   ],
   "source": [
    "dict_a = {1:10, 2:20}\n",
    "dict_b = {3:30, 4:40}\n",
    "dict_c = {5:50, 6:60}\n",
    "\n",
    "def dicts_extension(*args):\n",
    "\n",
    "    result = args[0]\n",
    "\n",
    "    for dict_ in args:\n",
    "        result.update(dict_)\n",
    "    return result\n",
    "\n",
    "dicts_extension(dict_a,dict_b, dict_c, {7:70, 8:80})"
   ]
  },
  {
   "cell_type": "markdown",
   "id": "3cd11d29",
   "metadata": {},
   "source": [
    "## Задание 4\n",
    "Нужно проверить, все ли числа в последовательности уникальны."
   ]
  },
  {
   "cell_type": "code",
   "execution_count": 105,
   "id": "dd5ddd59",
   "metadata": {},
   "outputs": [
    {
     "name": "stdout",
     "output_type": "stream",
     "text": [
      "All numbers are unique, magic!\n"
     ]
    }
   ],
   "source": [
    "def all_uniq(array):\n",
    "    temp_count_dict = dict.fromkeys(array)\n",
    "    for key in temp_count_dict:\n",
    "        temp_count_dict[key] = array.count(key)\n",
    "\n",
    "    if len(list(temp_count_dict.values())) == len(array):\n",
    "        print('All numbers are unique, magic!')\n",
    "    else:\n",
    "        print('Bruh...')\n",
    "\n",
    "all_uniq([1,2,3,9, -100])"
   ]
  },
  {
   "cell_type": "code",
   "execution_count": 106,
   "id": "5ee36ea0",
   "metadata": {},
   "outputs": [
    {
     "name": "stdout",
     "output_type": "stream",
     "text": [
      "Bruh...\n"
     ]
    }
   ],
   "source": [
    "all_uniq([1,2,3,9, -100, 3])"
   ]
  },
  {
   "cell_type": "markdown",
   "id": "14393873",
   "metadata": {},
   "source": [
    "## Задание 5\n",
    "Создать функцию, которая просто печатает все элементы заданного ей списка:\n",
    " НОМЕР J --> ЗНАЧЕНИЕ\n",
    " НОМЕР K --> ЗНАЧЕНИЕ\n",
    "J, K — порядковые номера в списке\n"
   ]
  },
  {
   "cell_type": "code",
   "execution_count": 107,
   "id": "a93af3ef",
   "metadata": {},
   "outputs": [
    {
     "name": "stdout",
     "output_type": "stream",
     "text": [
      "НОМЕР 0 --> я\n",
      "НОМЕР 1 --> не\n",
      "НОМЕР 2 --> в\n",
      "НОМЕР 3 --> отпуск\n"
     ]
    }
   ],
   "source": [
    "def print_list(my_list):\n",
    "    # ваш код тут\n",
    "    if len(my_list)==0:\n",
    "        print('Bruh...')\n",
    "    else:\n",
    "        for i in range(len(my_list)):\n",
    "            print(f'НОМЕР {i} --> {my_list[i]}')\n",
    "print_list([\"я\", \"не\", \"в\", \"отпуск\" ])"
   ]
  },
  {
   "cell_type": "code",
   "execution_count": 108,
   "id": "81909ae7",
   "metadata": {},
   "outputs": [
    {
     "name": "stdout",
     "output_type": "stream",
     "text": [
      "НОМЕР 0 --> Давным\n",
      "НОМЕР 1 --> давно\n",
      "НОМЕР 2 --> в \n",
      "НОМЕР 3 --> далёкой\n",
      "НОМЕР 4 --> далёкой\n",
      "НОМЕР 5 --> галактике\n"
     ]
    }
   ],
   "source": [
    "print_list([\"Давным\", 'давно', 'в ', 'далёкой', 'далёкой', 'галактике', ])"
   ]
  },
  {
   "cell_type": "markdown",
   "id": "a316b88a",
   "metadata": {},
   "source": [
    "## Задание 6\n",
    "Создать функцию, которая печатает каждый элемент словарика\n",
    "\n",
    " КЛЮЧ << J >> --> ЗНАЧЕНИЕ  \n",
    " КЛЮЧ << K >> --> ЗНАЧЕНИЕ\n",
    "    \n",
    "J, K — ключи словарика\n"
   ]
  },
  {
   "cell_type": "code",
   "execution_count": 109,
   "id": "1635f76b",
   "metadata": {},
   "outputs": [
    {
     "name": "stdout",
     "output_type": "stream",
     "text": [
      "КЛЮЧ <<key1>> --> 2\n",
      "КЛЮЧ <<key3>> --> False\n",
      "КЛЮЧ <<Приветствие>> --> Hello\n"
     ]
    }
   ],
   "source": [
    "def print_dict(my_dict):\n",
    "    # ваш код тут\n",
    "    if len(my_dict)==0:\n",
    "        print('Bruh...')\n",
    "    else:\n",
    "        for key in my_dict.keys():\n",
    "            print(f'КЛЮЧ <<{key}>> --> {my_dict[key]}')\n",
    "        \n",
    "print_dict({\"key1\": 2, \"key3\": False, \"Приветствие\": \"Hello\"})"
   ]
  },
  {
   "cell_type": "code",
   "execution_count": 57,
   "id": "41120050",
   "metadata": {},
   "outputs": [
    {
     "name": "stdout",
     "output_type": "stream",
     "text": [
      "КЛЮЧ <<1>> --> 0\n",
      "КЛЮЧ <<cheat>> --> kjkszpj\n",
      "КЛЮЧ <<Ronaldo>> --> SIUUUU\n"
     ]
    }
   ],
   "source": [
    "check_dict = {'1':0, 'cheat':'kjkszpj', 'Ronaldo':'SIUUUU'}\n",
    "print_dict(check_dict)"
   ]
  },
  {
   "cell_type": "markdown",
   "id": "c263d109",
   "metadata": {},
   "source": [
    "## Задание 7\n",
    "Сделать функцию, которая использует две уже написанные функции следующим образом:\n",
    "\n",
    " если ЗНАЧЕНИЕ это LIST --> вызывается print_list\n",
    " \n",
    " если ЗНАЧЕНИЕ это DICT --> вызывается print_dict\n",
    " \n",
    " во всех других случаях просто выводится ЗНАЧЕНИЕ"
   ]
  },
  {
   "cell_type": "code",
   "execution_count": 58,
   "id": "b2c57bfd",
   "metadata": {},
   "outputs": [
    {
     "name": "stdout",
     "output_type": "stream",
     "text": [
      "1\n",
      "НОМЕР 0 --> 1\n",
      "НОМЕР 1 --> 2\n",
      "НОМЕР 2 --> 3\n",
      "НОМЕР 3 --> 4\n",
      "Hello\n",
      "КЛЮЧ <<ciao>> --> Mondo\n",
      "КЛЮЧ <<Привет>> --> О дивный мир\n"
     ]
    }
   ],
   "source": [
    "def print_overlord(mydict):\n",
    "    # ваш код тут\n",
    "    if len(mydict)==0:\n",
    "        print('Double Bruh...')\n",
    "    else:\n",
    "        for value in mydict.values():\n",
    "            if isinstance(value, list):\n",
    "                print_list(value)\n",
    "            elif isinstance(value, dict):\n",
    "                print_dict(value)\n",
    "            else:\n",
    "                print(value)\n",
    "\n",
    "print_overlord(dict(key1=1,\n",
    "            key2=[1, 2, 3, 4], \n",
    "            key3='Hello', \n",
    "            key4={\"ciao\":\"Mondo\", \"Привет\": \"О дивный мир\"}))"
   ]
  },
  {
   "cell_type": "markdown",
   "id": "292ef103",
   "metadata": {},
   "source": [
    "# Задачи со звездочкой"
   ]
  },
  {
   "cell_type": "markdown",
   "id": "834ad56b",
   "metadata": {},
   "source": [
    "## Задание 1\n",
    "Сделать функцию, которая на вход получает фразу и печатает все отдельные слова из этой фразы. Операция разбиения строки на составляющие называется токенизацией, это слово нам ещё пригодится в будущем.\n",
    "\n",
    "OUTPUT: Word1 Word2 . . . WordN Number or Words: X"
   ]
  },
  {
   "cell_type": "code",
   "execution_count": 87,
   "id": "fca138ef",
   "metadata": {},
   "outputs": [
    {
     "name": "stdout",
     "output_type": "stream",
     "text": [
      "Тут фраза с пробелами и я хочу их распечатать по одному на строку и ещё посчитать слова \n",
      "Number of Words: 17\n"
     ]
    },
    {
     "data": {
      "text/plain": [
       "['Тут',\n",
       " 'фраза',\n",
       " 'с',\n",
       " 'пробелами',\n",
       " 'и',\n",
       " 'я',\n",
       " 'хочу',\n",
       " 'их',\n",
       " 'распечатать',\n",
       " 'по',\n",
       " 'одному',\n",
       " 'на',\n",
       " 'строку',\n",
       " 'и',\n",
       " 'ещё',\n",
       " 'посчитать',\n",
       " 'слова']"
      ]
     },
     "execution_count": 87,
     "metadata": {},
     "output_type": "execute_result"
    }
   ],
   "source": [
    "def word_count(phrase=None):\n",
    "    if phrase==None:\n",
    "        phrase = input('Введите фразу для её токенизации: ')\n",
    "    basic_to_reaplace = ['.',',','?','!',';',':', '\\n']\n",
    "    for elem in basic_to_reaplace:\n",
    "        phrase = phrase.replace(elem, ' ')\n",
    "    tokenized = phrase.split(' ')\n",
    "    tokenized = [word for word in tokenized if word != '']\n",
    "    for token in tokenized:\n",
    "        print (token, end = ' ')\n",
    "    print(f'\\nNumber of Words: {len(tokenized)}')\n",
    "    \n",
    "    return tokenized\n",
    "\n",
    "   \n",
    "word_count(\"Тут фраза с пробелами и я хочу их распечатать по одному на строку и ещё посчитать слова\")"
   ]
  },
  {
   "cell_type": "code",
   "execution_count": 88,
   "id": "79dcb700",
   "metadata": {},
   "outputs": [
    {
     "name": "stdout",
     "output_type": "stream",
     "text": [
      "С днём рождения успеха радости везения Любых желаний исполнения и миллион ночей и дней С днем рождения любви до головокружения И чумового настроения и самых преданных друзей \n",
      "Number of Words: 27\n"
     ]
    },
    {
     "data": {
      "text/plain": [
       "['С',\n",
       " 'днём',\n",
       " 'рождения',\n",
       " 'успеха',\n",
       " 'радости',\n",
       " 'везения',\n",
       " 'Любых',\n",
       " 'желаний',\n",
       " 'исполнения',\n",
       " 'и',\n",
       " 'миллион',\n",
       " 'ночей',\n",
       " 'и',\n",
       " 'дней',\n",
       " 'С',\n",
       " 'днем',\n",
       " 'рождения',\n",
       " 'любви',\n",
       " 'до',\n",
       " 'головокружения',\n",
       " 'И',\n",
       " 'чумового',\n",
       " 'настроения',\n",
       " 'и',\n",
       " 'самых',\n",
       " 'преданных',\n",
       " 'друзей']"
      ]
     },
     "execution_count": 88,
     "metadata": {},
     "output_type": "execute_result"
    }
   ],
   "source": [
    "word_count('''С днём рождения, успеха, радости, везения,\n",
    "Любых желаний исполнения и миллион ночей и дней!\n",
    "С днем рождения, любви до головокружения,\n",
    "И чумового настроения и самых преданных друзей!''')"
   ]
  },
  {
   "cell_type": "markdown",
   "id": "03384a04",
   "metadata": {},
   "source": [
    "## Задание 2\n",
    "Модифицировать функцию из предыдущего задания так, чтобы она считала \"вес\" каждого слова, выводя в процентное соотношение во фразе для каждого слова. Проценты печатать с точностью до 2 знаков после запятой."
   ]
  },
  {
   "cell_type": "code",
   "execution_count": 98,
   "id": "0331b886",
   "metadata": {},
   "outputs": [
    {
     "name": "stdout",
     "output_type": "stream",
     "text": [
      "Тут - 5.88 %\n",
      "фраза - 5.88 %\n",
      "с - 5.88 %\n",
      "пробелами - 5.88 %\n",
      "и - 11.76 %\n",
      "я - 5.88 %\n",
      "хочу - 5.88 %\n",
      "их - 5.88 %\n",
      "распечатать - 5.88 %\n",
      "по - 5.88 %\n",
      "одному - 5.88 %\n",
      "на - 5.88 %\n",
      "строку - 5.88 %\n",
      "ещё - 5.88 %\n",
      "посчитать - 5.88 %\n",
      "слова - 5.88 %\n",
      "\n",
      "Number of Words: 17\n"
     ]
    },
    {
     "data": {
      "text/plain": [
       "{'Тут': 5.88235294117647,\n",
       " 'фраза': 5.88235294117647,\n",
       " 'с': 5.88235294117647,\n",
       " 'пробелами': 5.88235294117647,\n",
       " 'и': 11.76470588235294,\n",
       " 'я': 5.88235294117647,\n",
       " 'хочу': 5.88235294117647,\n",
       " 'их': 5.88235294117647,\n",
       " 'распечатать': 5.88235294117647,\n",
       " 'по': 5.88235294117647,\n",
       " 'одному': 5.88235294117647,\n",
       " 'на': 5.88235294117647,\n",
       " 'строку': 5.88235294117647,\n",
       " 'ещё': 5.88235294117647,\n",
       " 'посчитать': 5.88235294117647,\n",
       " 'слова': 5.88235294117647}"
      ]
     },
     "execution_count": 98,
     "metadata": {},
     "output_type": "execute_result"
    }
   ],
   "source": [
    "def word_count_upgrade(phrase=None):\n",
    "    if phrase==None:\n",
    "        phrase = input('Введите фразу для её токенизации: ')\n",
    "    basic_to_reaplace = ['.',',','?','!',';',':', '\\n']\n",
    "    for elem in basic_to_reaplace:\n",
    "        phrase = phrase.replace(elem, ' ')\n",
    "    tokenized = phrase.split(' ')\n",
    "    tokenized = [word for word in tokenized if word != '']\n",
    "    \n",
    "    tokenized_dict = dict.fromkeys(tokenized)\n",
    "    \n",
    "    for token in tokenized:\n",
    "        tokenized_dict[token] = tokenized.count(token)/len(tokenized)*100\n",
    "    for key in tokenized_dict:\n",
    "        print(f'{key} - {tokenized_dict[key]:0.2f} %')\n",
    "    print(f'\\nNumber of Words: {len(tokenized)}')\n",
    "    return tokenized_dict\n",
    "\n",
    "   \n",
    "word_count_upgrade(\"Тут фраза с пробелами и я хочу их распечатать по одному на строку и ещё посчитать слова\")"
   ]
  },
  {
   "cell_type": "code",
   "execution_count": null,
   "id": "46297384",
   "metadata": {},
   "outputs": [],
   "source": []
  }
 ],
 "metadata": {
  "kernelspec": {
   "display_name": "Python 3 (ipykernel)",
   "language": "python",
   "name": "python3"
  },
  "language_info": {
   "codemirror_mode": {
    "name": "ipython",
    "version": 3
   },
   "file_extension": ".py",
   "mimetype": "text/x-python",
   "name": "python",
   "nbconvert_exporter": "python",
   "pygments_lexer": "ipython3",
   "version": "3.9.13"
  }
 },
 "nbformat": 4,
 "nbformat_minor": 5
}
